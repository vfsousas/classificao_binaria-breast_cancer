{
 "cells": [
  {
   "cell_type": "markdown",
   "metadata": {},
   "source": [
    "## Realizando as importações"
   ]
  },
  {
   "cell_type": "code",
   "execution_count": 87,
   "metadata": {
    "collapsed": true
   },
   "outputs": [],
   "source": [
    "import pandas as pd\n",
    "import numpy as np\n",
    "from sklearn.model_selection import train_test_split"
   ]
  },
  {
   "cell_type": "markdown",
   "metadata": {},
   "source": [
    "## Importando os dados de tumores para usar como base de treinamento "
   ]
  },
  {
   "cell_type": "code",
   "execution_count": 99,
   "metadata": {},
   "outputs": [],
   "source": [
    "previsores = pd.read_csv('entradas-breast.csv',  sep=',', encoding = 'ISO-8859-1').values\n",
    "classe = pd.read_csv('saidas-breast.csv').values"
   ]
  },
  {
   "cell_type": "code",
   "execution_count": 100,
   "metadata": {},
   "outputs": [
    {
     "data": {
      "text/plain": [
       "array([[  1.79900000e+01,   1.03800000e+01,   1.22800000e+02, ...,\n",
       "          2.65400000e-01,   4.60100000e-01,   1.18900000e-01],\n",
       "       [  2.05700000e+01,   1.77700000e+01,   1.32900000e+02, ...,\n",
       "          1.86000000e+02,   2.75000000e+02,   8.90200000e-02],\n",
       "       [  1.96900000e+01,   2.12500000e+01,   1.30000000e+02, ...,\n",
       "          2.43000000e+02,   3.61300000e-01,   8.75800000e-02],\n",
       "       ..., \n",
       "       [  1.66000000e+01,   2.80800000e+01,   1.08300000e+02, ...,\n",
       "          1.41800000e-01,   2.21800000e-01,   7.82000000e-02],\n",
       "       [  2.06000000e+01,   2.93300000e+01,   1.40100000e+02, ...,\n",
       "          2.65000000e+02,   4.08700000e-01,   1.24000000e+02],\n",
       "       [  7.76000000e+00,   2.45400000e+01,   4.79200000e+01, ...,\n",
       "          0.00000000e+00,   2.87100000e-01,   7.03900000e-02]])"
      ]
     },
     "execution_count": 100,
     "metadata": {},
     "output_type": "execute_result"
    }
   ],
   "source": [
    "type(previsores)\n",
    "previsores"
   ]
  },
  {
   "cell_type": "markdown",
   "metadata": {},
   "source": [
    "## Criando  a base de dados para treinamento e teste\n",
    "### Será utilizado 25% da base de dados para testes utilizando o metodo train_test_split do sklearn"
   ]
  },
  {
   "cell_type": "code",
   "execution_count": 101,
   "metadata": {
    "collapsed": true
   },
   "outputs": [],
   "source": [
    "previsores_treinamento, previsores_teste, classe_treinamento, classe_teste = train_test_split(previsores, classe, test_size=0.25)"
   ]
  },
  {
   "cell_type": "markdown",
   "metadata": {},
   "source": [
    "# Criando os neuronios \n",
    "## Usando Keras, criamos 30 neuronios na camada de entrada, uma pra cada particularidade dos dados de cancer\n",
    "## Usando 16 neuronios na camada oculta, formula (30 entrada + 1 saida / 2)\n",
    "## Usando 1 neuronio na camada de saida para resultados falsos ou verdadeiros"
   ]
  },
  {
   "cell_type": "code",
   "execution_count": 102,
   "metadata": {},
   "outputs": [],
   "source": [
    "import keras\n",
    "from keras.models import Sequential\n",
    "from keras.layers import Dense"
   ]
  },
  {
   "cell_type": "code",
   "execution_count": 118,
   "metadata": {
    "collapsed": true
   },
   "outputs": [],
   "source": [
    "classificador = Sequential()"
   ]
  },
  {
   "cell_type": "code",
   "execution_count": 119,
   "metadata": {
    "collapsed": true
   },
   "outputs": [],
   "source": [
    "classificador.add(Dense(units=16, activation='relu', kernel_initializer='random_uniform', input_dim=30))"
   ]
  },
  {
   "cell_type": "code",
   "execution_count": 120,
   "metadata": {
    "collapsed": true
   },
   "outputs": [],
   "source": [
    "classificador.add(Dense(units=16, activation='relu', kernel_initializer='random_uniform'))"
   ]
  },
  {
   "cell_type": "code",
   "execution_count": 121,
   "metadata": {
    "collapsed": true
   },
   "outputs": [],
   "source": [
    "classificador.add(Dense(units=1, activation='sigmoid'))"
   ]
  },
  {
   "cell_type": "code",
   "execution_count": 122,
   "metadata": {
    "collapsed": true
   },
   "outputs": [],
   "source": [
    "otimizador = keras.optimizers.Adam(lr=0.001,  decay=0.0001,clipvalue = 0.5)"
   ]
  },
  {
   "cell_type": "code",
   "execution_count": 123,
   "metadata": {
    "collapsed": true
   },
   "outputs": [],
   "source": [
    "classificador.compile(optimizer=otimizador, loss='binary_crossentropy', metrics=['binary_accuracy'])"
   ]
  },
  {
   "cell_type": "code",
   "execution_count": 124,
   "metadata": {},
   "outputs": [
    {
     "name": "stdout",
     "output_type": "stream",
     "text": [
      "Epoch 1/100\n",
      "426/426 [==============================] - 0s - loss: 0.8847 - binary_accuracy: 0.6385     \n",
      "Epoch 2/100\n",
      "426/426 [==============================] - 0s - loss: 0.4978 - binary_accuracy: 0.7371     \n",
      "Epoch 3/100\n",
      "426/426 [==============================] - 0s - loss: 0.5656 - binary_accuracy: 0.7324     \n",
      "Epoch 4/100\n",
      "426/426 [==============================] - 0s - loss: 0.4332 - binary_accuracy: 0.7793     \n",
      "Epoch 5/100\n",
      "426/426 [==============================] - 0s - loss: 0.5812 - binary_accuracy: 0.7535     \n",
      "Epoch 6/100\n",
      "426/426 [==============================] - 0s - loss: 0.4439 - binary_accuracy: 0.8005     \n",
      "Epoch 7/100\n",
      "426/426 [==============================] - 0s - loss: 0.3741 - binary_accuracy: 0.8333     \n",
      "Epoch 8/100\n",
      "426/426 [==============================] - 0s - loss: 0.4378 - binary_accuracy: 0.8169     \n",
      "Epoch 9/100\n",
      "426/426 [==============================] - 0s - loss: 0.4427 - binary_accuracy: 0.8263     \n",
      "Epoch 10/100\n",
      "426/426 [==============================] - 0s - loss: 0.4617 - binary_accuracy: 0.8357     \n",
      "Epoch 11/100\n",
      "426/426 [==============================] - 0s - loss: 0.4283 - binary_accuracy: 0.8451     \n",
      "Epoch 12/100\n",
      "426/426 [==============================] - 0s - loss: 0.4735 - binary_accuracy: 0.8192     \n",
      "Epoch 13/100\n",
      "426/426 [==============================] - 0s - loss: 0.5152 - binary_accuracy: 0.8216     \n",
      "Epoch 14/100\n",
      "426/426 [==============================] - 0s - loss: 0.3984 - binary_accuracy: 0.8545     \n",
      "Epoch 15/100\n",
      "426/426 [==============================] - 0s - loss: 0.3569 - binary_accuracy: 0.8592     \n",
      "Epoch 16/100\n",
      "426/426 [==============================] - 0s - loss: 0.3697 - binary_accuracy: 0.8685     \n",
      "Epoch 17/100\n",
      "426/426 [==============================] - 0s - loss: 0.5665 - binary_accuracy: 0.8169     \n",
      "Epoch 18/100\n",
      "426/426 [==============================] - 0s - loss: 0.5251 - binary_accuracy: 0.8333     \n",
      "Epoch 19/100\n",
      "426/426 [==============================] - 0s - loss: 0.4449 - binary_accuracy: 0.8474     \n",
      "Epoch 20/100\n",
      "426/426 [==============================] - 0s - loss: 0.4438 - binary_accuracy: 0.8122     \n",
      "Epoch 21/100\n",
      "426/426 [==============================] - 0s - loss: 0.3536 - binary_accuracy: 0.8662     \n",
      "Epoch 22/100\n",
      "426/426 [==============================] - 0s - loss: 0.4114 - binary_accuracy: 0.8545     \n",
      "Epoch 23/100\n",
      "426/426 [==============================] - 0s - loss: 0.4506 - binary_accuracy: 0.8451     \n",
      "Epoch 24/100\n",
      "426/426 [==============================] - 0s - loss: 0.3970 - binary_accuracy: 0.8427     \n",
      "Epoch 25/100\n",
      "426/426 [==============================] - 0s - loss: 0.4043 - binary_accuracy: 0.8498     \n",
      "Epoch 26/100\n",
      "426/426 [==============================] - 0s - loss: 0.4371 - binary_accuracy: 0.8662     \n",
      "Epoch 27/100\n",
      "426/426 [==============================] - 0s - loss: 0.3591 - binary_accuracy: 0.8779     \n",
      "Epoch 28/100\n",
      "426/426 [==============================] - 0s - loss: 0.3745 - binary_accuracy: 0.8568     \n",
      "Epoch 29/100\n",
      "426/426 [==============================] - 0s - loss: 0.3532 - binary_accuracy: 0.8615     \n",
      "Epoch 30/100\n",
      "426/426 [==============================] - 0s - loss: 0.3482 - binary_accuracy: 0.8732     \n",
      "Epoch 31/100\n",
      "426/426 [==============================] - 0s - loss: 0.3687 - binary_accuracy: 0.8615     \n",
      "Epoch 32/100\n",
      "426/426 [==============================] - 0s - loss: 0.5208 - binary_accuracy: 0.8685     \n",
      "Epoch 33/100\n",
      "426/426 [==============================] - 0s - loss: 0.3853 - binary_accuracy: 0.8592     \n",
      "Epoch 34/100\n",
      "426/426 [==============================] - 0s - loss: 0.4033 - binary_accuracy: 0.8803     \n",
      "Epoch 35/100\n",
      "426/426 [==============================] - 0s - loss: 0.3578 - binary_accuracy: 0.8521     \n",
      "Epoch 36/100\n",
      "426/426 [==============================] - 0s - loss: 0.4281 - binary_accuracy: 0.8404     \n",
      "Epoch 37/100\n",
      "426/426 [==============================] - 0s - loss: 0.4381 - binary_accuracy: 0.8756     \n",
      "Epoch 38/100\n",
      "426/426 [==============================] - 0s - loss: 0.6491 - binary_accuracy: 0.8263     \n",
      "Epoch 39/100\n",
      "426/426 [==============================] - 0s - loss: 0.5455 - binary_accuracy: 0.8615     \n",
      "Epoch 40/100\n",
      "426/426 [==============================] - 0s - loss: 0.4340 - binary_accuracy: 0.8333     \n",
      "Epoch 41/100\n",
      "426/426 [==============================] - 0s - loss: 0.3994 - binary_accuracy: 0.8685     \n",
      "Epoch 42/100\n",
      "426/426 [==============================] - 0s - loss: 0.3782 - binary_accuracy: 0.8662     \n",
      "Epoch 43/100\n",
      "426/426 [==============================] - 0s - loss: 0.4551 - binary_accuracy: 0.8357     \n",
      "Epoch 44/100\n",
      "426/426 [==============================] - 0s - loss: 0.4096 - binary_accuracy: 0.8474     \n",
      "Epoch 45/100\n",
      "426/426 [==============================] - 0s - loss: 0.3329 - binary_accuracy: 0.8803     \n",
      "Epoch 46/100\n",
      "426/426 [==============================] - 0s - loss: 0.3888 - binary_accuracy: 0.8685     \n",
      "Epoch 47/100\n",
      "426/426 [==============================] - 0s - loss: 0.3478 - binary_accuracy: 0.8709     \n",
      "Epoch 48/100\n",
      "426/426 [==============================] - 0s - loss: 0.3827 - binary_accuracy: 0.8920     \n",
      "Epoch 49/100\n",
      "426/426 [==============================] - 0s - loss: 0.3523 - binary_accuracy: 0.8967     \n",
      "Epoch 50/100\n",
      "426/426 [==============================] - 0s - loss: 0.4051 - binary_accuracy: 0.8638     \n",
      "Epoch 51/100\n",
      "426/426 [==============================] - 0s - loss: 0.3634 - binary_accuracy: 0.8873     \n",
      "Epoch 52/100\n",
      "426/426 [==============================] - 0s - loss: 0.3018 - binary_accuracy: 0.8779     \n",
      "Epoch 53/100\n",
      "426/426 [==============================] - 0s - loss: 0.3228 - binary_accuracy: 0.8897     \n",
      "Epoch 54/100\n",
      "426/426 [==============================] - 0s - loss: 0.3959 - binary_accuracy: 0.8873     \n",
      "Epoch 55/100\n",
      "426/426 [==============================] - 0s - loss: 0.3851 - binary_accuracy: 0.8779     \n",
      "Epoch 56/100\n",
      "426/426 [==============================] - 0s - loss: 0.3826 - binary_accuracy: 0.8779     \n",
      "Epoch 57/100\n",
      "426/426 [==============================] - 0s - loss: 0.3791 - binary_accuracy: 0.8779     \n",
      "Epoch 58/100\n",
      "426/426 [==============================] - 0s - loss: 0.3945 - binary_accuracy: 0.8850     \n",
      "Epoch 59/100\n",
      "426/426 [==============================] - 0s - loss: 0.6196 - binary_accuracy: 0.8239     \n",
      "Epoch 60/100\n",
      "426/426 [==============================] - 0s - loss: 0.4474 - binary_accuracy: 0.8779     \n",
      "Epoch 61/100\n",
      "426/426 [==============================] - 0s - loss: 0.3983 - binary_accuracy: 0.8803     \n",
      "Epoch 62/100\n",
      "426/426 [==============================] - 0s - loss: 0.5120 - binary_accuracy: 0.8498     \n",
      "Epoch 63/100\n",
      "426/426 [==============================] - 0s - loss: 0.5013 - binary_accuracy: 0.8427     \n",
      "Epoch 64/100\n",
      "426/426 [==============================] - 0s - loss: 0.4484 - binary_accuracy: 0.8568     \n",
      "Epoch 65/100\n",
      "426/426 [==============================] - 0s - loss: 0.4223 - binary_accuracy: 0.8592     \n",
      "Epoch 66/100\n",
      "426/426 [==============================] - 0s - loss: 0.3720 - binary_accuracy: 0.8568     \n",
      "Epoch 67/100\n",
      "426/426 [==============================] - 0s - loss: 0.5219 - binary_accuracy: 0.8521     \n",
      "Epoch 68/100\n",
      "426/426 [==============================] - 0s - loss: 0.4300 - binary_accuracy: 0.8427     \n",
      "Epoch 69/100\n",
      "426/426 [==============================] - 0s - loss: 0.3326 - binary_accuracy: 0.8826     \n",
      "Epoch 70/100\n",
      "426/426 [==============================] - 0s - loss: 0.3613 - binary_accuracy: 0.9014     \n",
      "Epoch 71/100\n",
      "426/426 [==============================] - 0s - loss: 0.5539 - binary_accuracy: 0.8545     \n",
      "Epoch 72/100\n",
      "426/426 [==============================] - 0s - loss: 0.3852 - binary_accuracy: 0.8709     \n",
      "Epoch 73/100\n",
      "426/426 [==============================] - 0s - loss: 0.3896 - binary_accuracy: 0.8803     \n",
      "Epoch 74/100\n",
      "426/426 [==============================] - 0s - loss: 0.4998 - binary_accuracy: 0.8592     \n",
      "Epoch 75/100\n",
      "426/426 [==============================] - 0s - loss: 0.3287 - binary_accuracy: 0.8732     \n",
      "Epoch 76/100\n",
      "426/426 [==============================] - 0s - loss: 0.3877 - binary_accuracy: 0.8897     \n",
      "Epoch 77/100\n",
      "426/426 [==============================] - 0s - loss: 0.4248 - binary_accuracy: 0.8873     \n",
      "Epoch 78/100\n",
      "426/426 [==============================] - 0s - loss: 0.6317 - binary_accuracy: 0.8357     \n",
      "Epoch 79/100\n"
     ]
    },
    {
     "name": "stdout",
     "output_type": "stream",
     "text": [
      "426/426 [==============================] - 0s - loss: 0.5158 - binary_accuracy: 0.8732     \n",
      "Epoch 80/100\n",
      "426/426 [==============================] - 0s - loss: 0.3839 - binary_accuracy: 0.8662     \n",
      "Epoch 81/100\n",
      "426/426 [==============================] - 0s - loss: 0.4418 - binary_accuracy: 0.8873     \n",
      "Epoch 82/100\n",
      "426/426 [==============================] - 0s - loss: 0.4064 - binary_accuracy: 0.8568     \n",
      "Epoch 83/100\n",
      "426/426 [==============================] - 0s - loss: 0.4214 - binary_accuracy: 0.8732     \n",
      "Epoch 84/100\n",
      "426/426 [==============================] - 0s - loss: 0.5278 - binary_accuracy: 0.8498     \n",
      "Epoch 85/100\n",
      "426/426 [==============================] - 0s - loss: 0.5560 - binary_accuracy: 0.8545     \n",
      "Epoch 86/100\n",
      "426/426 [==============================] - 0s - loss: 0.5689 - binary_accuracy: 0.8638     \n",
      "Epoch 87/100\n",
      "426/426 [==============================] - 0s - loss: 0.5273 - binary_accuracy: 0.8685     \n",
      "Epoch 88/100\n",
      "426/426 [==============================] - 0s - loss: 0.7238 - binary_accuracy: 0.8521     \n",
      "Epoch 89/100\n",
      "426/426 [==============================] - 0s - loss: 0.3842 - binary_accuracy: 0.8873     \n",
      "Epoch 90/100\n",
      "426/426 [==============================] - 0s - loss: 0.4178 - binary_accuracy: 0.8803     \n",
      "Epoch 91/100\n",
      "426/426 [==============================] - 0s - loss: 0.6545 - binary_accuracy: 0.8615     \n",
      "Epoch 92/100\n",
      "426/426 [==============================] - 0s - loss: 0.3988 - binary_accuracy: 0.8779     \n",
      "Epoch 93/100\n",
      "426/426 [==============================] - 0s - loss: 0.6087 - binary_accuracy: 0.8615     \n",
      "Epoch 94/100\n",
      "426/426 [==============================] - 0s - loss: 0.6014 - binary_accuracy: 0.8615     \n",
      "Epoch 95/100\n",
      "426/426 [==============================] - 0s - loss: 0.5128 - binary_accuracy: 0.8873     \n",
      "Epoch 96/100\n",
      "426/426 [==============================] - 0s - loss: 0.4405 - binary_accuracy: 0.8756     \n",
      "Epoch 97/100\n",
      "426/426 [==============================] - 0s - loss: 0.5245 - binary_accuracy: 0.8709     \n",
      "Epoch 98/100\n",
      "426/426 [==============================] - 0s - loss: 0.6315 - binary_accuracy: 0.8756     \n",
      "Epoch 99/100\n",
      "426/426 [==============================] - 0s - loss: 0.7623 - binary_accuracy: 0.8662     \n",
      "Epoch 100/100\n",
      "426/426 [==============================] - 0s - loss: 0.9694 - binary_accuracy: 0.8404     \n"
     ]
    },
    {
     "data": {
      "text/plain": [
       "<keras.callbacks.History at 0x7fb8c7f7a3c8>"
      ]
     },
     "execution_count": 124,
     "metadata": {},
     "output_type": "execute_result"
    }
   ],
   "source": [
    "classificador.fit(previsores_treinamento, classe_treinamento, batch_size=10, epochs=100)"
   ]
  },
  {
   "cell_type": "code",
   "execution_count": 125,
   "metadata": {},
   "outputs": [
    {
     "data": {
      "text/plain": [
       "array([[False],\n",
       "       [False],\n",
       "       [ True],\n",
       "       [False],\n",
       "       [ True],\n",
       "       [ True],\n",
       "       [ True],\n",
       "       [False],\n",
       "       [ True],\n",
       "       [ True],\n",
       "       [False],\n",
       "       [ True],\n",
       "       [ True],\n",
       "       [ True],\n",
       "       [ True],\n",
       "       [False],\n",
       "       [False],\n",
       "       [ True],\n",
       "       [ True],\n",
       "       [ True],\n",
       "       [False],\n",
       "       [ True],\n",
       "       [ True],\n",
       "       [ True],\n",
       "       [ True],\n",
       "       [ True],\n",
       "       [False],\n",
       "       [ True],\n",
       "       [ True],\n",
       "       [False],\n",
       "       [False],\n",
       "       [ True],\n",
       "       [ True],\n",
       "       [ True],\n",
       "       [ True],\n",
       "       [ True],\n",
       "       [False],\n",
       "       [ True],\n",
       "       [ True],\n",
       "       [ True],\n",
       "       [ True],\n",
       "       [False],\n",
       "       [False],\n",
       "       [ True],\n",
       "       [False],\n",
       "       [False],\n",
       "       [False],\n",
       "       [False],\n",
       "       [ True],\n",
       "       [False],\n",
       "       [False],\n",
       "       [ True],\n",
       "       [ True],\n",
       "       [ True],\n",
       "       [ True],\n",
       "       [ True],\n",
       "       [False],\n",
       "       [False],\n",
       "       [ True],\n",
       "       [ True],\n",
       "       [ True],\n",
       "       [ True],\n",
       "       [False],\n",
       "       [False],\n",
       "       [ True],\n",
       "       [ True],\n",
       "       [ True],\n",
       "       [False],\n",
       "       [ True],\n",
       "       [ True],\n",
       "       [False],\n",
       "       [ True],\n",
       "       [False],\n",
       "       [ True],\n",
       "       [False],\n",
       "       [False],\n",
       "       [ True],\n",
       "       [ True],\n",
       "       [False],\n",
       "       [False],\n",
       "       [ True],\n",
       "       [False],\n",
       "       [ True],\n",
       "       [ True],\n",
       "       [False],\n",
       "       [ True],\n",
       "       [ True],\n",
       "       [False],\n",
       "       [False],\n",
       "       [False],\n",
       "       [ True],\n",
       "       [ True],\n",
       "       [ True],\n",
       "       [ True],\n",
       "       [ True],\n",
       "       [ True],\n",
       "       [ True],\n",
       "       [ True],\n",
       "       [False],\n",
       "       [ True],\n",
       "       [False],\n",
       "       [ True],\n",
       "       [False],\n",
       "       [ True],\n",
       "       [ True],\n",
       "       [ True],\n",
       "       [False],\n",
       "       [ True],\n",
       "       [False],\n",
       "       [False],\n",
       "       [False],\n",
       "       [ True],\n",
       "       [ True],\n",
       "       [ True],\n",
       "       [False],\n",
       "       [ True],\n",
       "       [ True],\n",
       "       [ True],\n",
       "       [ True],\n",
       "       [ True],\n",
       "       [ True],\n",
       "       [False],\n",
       "       [False],\n",
       "       [ True],\n",
       "       [False],\n",
       "       [ True],\n",
       "       [ True],\n",
       "       [ True],\n",
       "       [False],\n",
       "       [ True],\n",
       "       [ True],\n",
       "       [ True],\n",
       "       [ True],\n",
       "       [ True],\n",
       "       [False],\n",
       "       [False],\n",
       "       [ True],\n",
       "       [ True],\n",
       "       [False],\n",
       "       [ True],\n",
       "       [ True],\n",
       "       [False],\n",
       "       [ True]], dtype=bool)"
      ]
     },
     "execution_count": 125,
     "metadata": {},
     "output_type": "execute_result"
    }
   ],
   "source": [
    "\n",
    "previsores = classificador.predict(previsores_teste)\n",
    "previsores = previsores > 0.5"
   ]
  },
  {
   "cell_type": "code",
   "execution_count": 134,
   "metadata": {},
   "outputs": [
    {
     "data": {
      "text/plain": [
       "[array([[-0.51017261],\n",
       "        [-0.12652352],\n",
       "        [-0.2243275 ],\n",
       "        [-0.33446461],\n",
       "        [ 0.30252123],\n",
       "        [ 0.16985671],\n",
       "        [-0.34633124],\n",
       "        [-0.07186133],\n",
       "        [ 0.3570925 ],\n",
       "        [ 0.43659183],\n",
       "        [-0.49752784],\n",
       "        [ 0.09497985],\n",
       "        [-0.46991697],\n",
       "        [-0.50316727],\n",
       "        [-0.19957291],\n",
       "        [-0.21722899]], dtype=float32), array([ 0.31314957], dtype=float32)]"
      ]
     },
     "execution_count": 134,
     "metadata": {},
     "output_type": "execute_result"
    }
   ],
   "source": [
    "pesos0 = classificador.layers[0].get_weights()\n",
    "pesos1 = classificador.layers[1].get_weights()\n",
    "pesos2 = classificador.layers[2].get_weights()\n",
    "pesos2"
   ]
  },
  {
   "cell_type": "code",
   "execution_count": 127,
   "metadata": {
    "collapsed": true
   },
   "outputs": [],
   "source": [
    "from sklearn.metrics import confusion_matrix, accuracy_score"
   ]
  },
  {
   "cell_type": "code",
   "execution_count": 128,
   "metadata": {},
   "outputs": [
    {
     "data": {
      "text/plain": [
       "0.85314685314685312"
      ]
     },
     "execution_count": 128,
     "metadata": {},
     "output_type": "execute_result"
    }
   ],
   "source": [
    "precisao = accuracy_score(classe_teste, previsores)\n",
    "precisao"
   ]
  },
  {
   "cell_type": "code",
   "execution_count": 129,
   "metadata": {},
   "outputs": [
    {
     "data": {
      "text/plain": [
       "array([[42, 11],\n",
       "       [10, 80]])"
      ]
     },
     "execution_count": 129,
     "metadata": {},
     "output_type": "execute_result"
    }
   ],
   "source": [
    "matrix_confusion = confusion_matrix(classe_teste, previsores)\n",
    "matrix_confusion"
   ]
  },
  {
   "cell_type": "code",
   "execution_count": 130,
   "metadata": {},
   "outputs": [
    {
     "name": "stdout",
     "output_type": "stream",
     "text": [
      "\r",
      " 32/143 [=====>........................] - ETA: 0s"
     ]
    },
    {
     "data": {
      "text/plain": [
       "[1.0210565609948619, 0.85314685356366882]"
      ]
     },
     "execution_count": 130,
     "metadata": {},
     "output_type": "execute_result"
    }
   ],
   "source": [
    "resultado = classificador.evaluate(previsores_teste, classe_teste)\n",
    "resultado"
   ]
  },
  {
   "cell_type": "code",
   "execution_count": null,
   "metadata": {
    "collapsed": true
   },
   "outputs": [],
   "source": []
  }
 ],
 "metadata": {
  "kernelspec": {
   "display_name": "Python [conda env:myDjangoEnv]",
   "language": "python",
   "name": "conda-env-myDjangoEnv-py"
  },
  "language_info": {
   "codemirror_mode": {
    "name": "ipython",
    "version": 3
   },
   "file_extension": ".py",
   "mimetype": "text/x-python",
   "name": "python",
   "nbconvert_exporter": "python",
   "pygments_lexer": "ipython3",
   "version": "3.6.2"
  }
 },
 "nbformat": 4,
 "nbformat_minor": 2
}
