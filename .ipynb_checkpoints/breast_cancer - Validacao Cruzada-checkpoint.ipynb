{
 "cells": [
  {
   "cell_type": "code",
   "execution_count": 3,
   "metadata": {},
   "outputs": [],
   "source": [
    "import pandas as pd\n",
    "import numpy as np\n",
    "import keras\n",
    "from keras.models import Sequential\n",
    "from keras.layers import Dense\n",
    "from keras.wrappers.scikit_learn import KerasClassifier\n",
    "from sklearn.model_selection import cross_val_score\n"
   ]
  },
  {
   "cell_type": "code",
   "execution_count": 2,
   "metadata": {
    "collapsed": true
   },
   "outputs": [],
   "source": [
    "previsores = pd.read_csv('entradas-breast.csv',  sep=',', encoding = 'ISO-8859-1').values\n",
    "classe = pd.read_csv('saidas-breast.csv').values"
   ]
  },
  {
   "cell_type": "code",
   "execution_count": 5,
   "metadata": {
    "collapsed": true
   },
   "outputs": [],
   "source": [
    "def criarRede():\n",
    "    classificador = Sequential()\n",
    "    classificador.add(Dense(units=16, activation='relu', kernel_initializer='random_uniform', input_dim=30))\n",
    "    classificador.add(Dense(units=16, activation='relu', kernel_initializer='random_uniform'))\n",
    "    classificador.add(Dense(units=1, activation='sigmoid'))\n",
    "    otimizador = keras.optimizers.Adam(lr=0.001,  decay=0.0001,clipvalue = 0.5)\n",
    "    classificador.compile(optimizer=otimizador, loss='binary_crossentropy', metrics=['binary_accuracy'])\n",
    "    return classificador"
   ]
  },
  {
   "cell_type": "code",
   "execution_count": 6,
   "metadata": {
    "collapsed": true
   },
   "outputs": [],
   "source": [
    "classificador = KerasClassifier(build_fn=criarRede(), epochs=100, batch_size=10)"
   ]
  },
  {
   "cell_type": "code",
   "execution_count": null,
   "metadata": {
    "collapsed": true
   },
   "outputs": [],
   "source": [
    "resultados = cross_val_score(estimator=classificador, x=previsores, y=classe, cv = 10, scoring='accuracy')"
   ]
  }
 ],
 "metadata": {
  "kernelspec": {
   "display_name": "myDjangoEnv",
   "language": "python",
   "name": "mydjangoenv"
  },
  "language_info": {
   "codemirror_mode": {
    "name": "ipython",
    "version": 3
   },
   "file_extension": ".py",
   "mimetype": "text/x-python",
   "name": "python",
   "nbconvert_exporter": "python",
   "pygments_lexer": "ipython3",
   "version": "3.6.2"
  }
 },
 "nbformat": 4,
 "nbformat_minor": 2
}
